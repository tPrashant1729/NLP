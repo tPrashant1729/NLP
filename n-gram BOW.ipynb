{
 "cells": [
  {
   "cell_type": "code",
   "execution_count": 1,
   "id": "60110f73",
   "metadata": {},
   "outputs": [],
   "source": [
    "from sklearn.feature_extraction.text import CountVectorizer"
   ]
  },
  {
   "cell_type": "code",
   "execution_count": 58,
   "id": "c9ebb8f8",
   "metadata": {},
   "outputs": [
    {
     "data": {
      "text/plain": [
       "{'load': 6,\n",
       " 'the': 15,\n",
       " 'spacy': 12,\n",
       " 'language': 3,\n",
       " 'model': 9,\n",
       " 'you': 27,\n",
       " 'want': 24,\n",
       " 'to': 18,\n",
       " 'use': 21,\n",
       " 'for': 1,\n",
       " 'example': 0,\n",
       " 'load the': 7,\n",
       " 'the spacy': 16,\n",
       " 'spacy language': 13,\n",
       " 'language model': 4,\n",
       " 'model you': 10,\n",
       " 'you want': 28,\n",
       " 'want to': 25,\n",
       " 'to use': 19,\n",
       " 'use for': 22,\n",
       " 'for example': 2,\n",
       " 'load the spacy': 8,\n",
       " 'the spacy language': 17,\n",
       " 'spacy language model': 14,\n",
       " 'language model you': 5,\n",
       " 'model you want': 11,\n",
       " 'you want to': 29,\n",
       " 'want to use': 26,\n",
       " 'to use for': 20,\n",
       " 'use for example': 23}"
      ]
     },
     "execution_count": 58,
     "metadata": {},
     "output_type": "execute_result"
    }
   ],
   "source": [
    "v = CountVectorizer(ngram_range=(1,3))\n",
    "v.fit(['''Load the spaCy language model you want to use. For example'''])\n",
    "\n",
    "v.vocabulary_"
   ]
  },
  {
   "cell_type": "code",
   "execution_count": 34,
   "id": "4205554b",
   "metadata": {},
   "outputs": [],
   "source": [
    "import spacy\n",
    "nlp  = spacy.load('en_core_web_sm')\n",
    "text = 'we are going to eat pizza !!!'\n",
    "def preprocess(text):\n",
    "    doc = nlp(text)\n",
    "    filter_token = []\n",
    "    for token in doc:\n",
    "        if token.is_stop or token.is_punct:\n",
    "            continue\n",
    "        filter_token.append(token.lemma_)\n",
    "    return filter_token"
   ]
  },
  {
   "cell_type": "code",
   "execution_count": 35,
   "id": "3b09850a",
   "metadata": {},
   "outputs": [
    {
     "data": {
      "text/plain": [
       "['go', 'eat', 'pizza']"
      ]
     },
     "execution_count": 35,
     "metadata": {},
     "output_type": "execute_result"
    }
   ],
   "source": [
    "preprocess(text)"
   ]
  },
  {
   "cell_type": "code",
   "execution_count": 36,
   "id": "6c564c89",
   "metadata": {},
   "outputs": [
    {
     "data": {
      "text/plain": [
       "['cooler', 'cool', 'fan']"
      ]
     },
     "execution_count": 36,
     "metadata": {},
     "output_type": "execute_result"
    }
   ],
   "source": [
    "preprocess('cooler is cooler than fan')"
   ]
  },
  {
   "cell_type": "code",
   "execution_count": 51,
   "id": "d6c705cc",
   "metadata": {},
   "outputs": [
    {
     "data": {
      "text/plain": [
       "{'load': 2,\n",
       " 'spacy': 4,\n",
       " 'language': 1,\n",
       " 'model': 3,\n",
       " 'want': 6,\n",
       " 'use': 5,\n",
       " 'example': 0}"
      ]
     },
     "execution_count": 51,
     "metadata": {},
     "output_type": "execute_result"
    }
   ],
   "source": [
    "v.fit(preprocess('''Load the spaCy language model you want to use. For example'''))\n",
    "v.vocabulary_"
   ]
  },
  {
   "cell_type": "code",
   "execution_count": 52,
   "id": "ccc7e2ae",
   "metadata": {},
   "outputs": [
    {
     "data": {
      "text/plain": [
       "array([[1, 1, 0, 1, 0, 1, 1]], dtype=int64)"
      ]
     },
     "execution_count": 52,
     "metadata": {},
     "output_type": "execute_result"
    }
   ],
   "source": [
    "# as v.fit becomes vast , it is possible to come with more n gram words.\n",
    "v.transform([''' language model you want to use example''']).toarray()"
   ]
  },
  {
   "cell_type": "code",
   "execution_count": 50,
   "id": "5ec2a9bc",
   "metadata": {},
   "outputs": [
    {
     "data": {
      "text/plain": [
       "array([[0, 0, 0]], dtype=int64)"
      ]
     },
     "execution_count": 50,
     "metadata": {},
     "output_type": "execute_result"
    }
   ],
   "source": [
    "v.transform([\"Thor eat pizza\"]).toarray()"
   ]
  }
 ],
 "metadata": {
  "kernelspec": {
   "display_name": "Python 3 (ipykernel)",
   "language": "python",
   "name": "python3"
  },
  "language_info": {
   "codemirror_mode": {
    "name": "ipython",
    "version": 3
   },
   "file_extension": ".py",
   "mimetype": "text/x-python",
   "name": "python",
   "nbconvert_exporter": "python",
   "pygments_lexer": "ipython3",
   "version": "3.9.0"
  }
 },
 "nbformat": 4,
 "nbformat_minor": 5
}
