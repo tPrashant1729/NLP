{
 "cells": [
  {
   "cell_type": "code",
   "execution_count": 1,
   "id": "503fa4fa",
   "metadata": {},
   "outputs": [],
   "source": [
    "import spacy"
   ]
  },
  {
   "cell_type": "code",
   "execution_count": 2,
   "id": "6eafc81a",
   "metadata": {},
   "outputs": [],
   "source": [
    "import pandas as pd"
   ]
  },
  {
   "cell_type": "code",
   "execution_count": 6,
   "id": "4fee2fbb",
   "metadata": {},
   "outputs": [
    {
     "data": {
      "text/html": [
       "<div>\n",
       "<style scoped>\n",
       "    .dataframe tbody tr th:only-of-type {\n",
       "        vertical-align: middle;\n",
       "    }\n",
       "\n",
       "    .dataframe tbody tr th {\n",
       "        vertical-align: top;\n",
       "    }\n",
       "\n",
       "    .dataframe thead th {\n",
       "        text-align: right;\n",
       "    }\n",
       "</style>\n",
       "<table border=\"1\" class=\"dataframe\">\n",
       "  <thead>\n",
       "    <tr style=\"text-align: right;\">\n",
       "      <th></th>\n",
       "      <th>short_description</th>\n",
       "      <th>headline</th>\n",
       "      <th>date</th>\n",
       "      <th>link</th>\n",
       "      <th>authors</th>\n",
       "      <th>category</th>\n",
       "    </tr>\n",
       "  </thead>\n",
       "  <tbody>\n",
       "    <tr>\n",
       "      <th>109770</th>\n",
       "      <td></td>\n",
       "      <td>Protesters Clash With Police As New Unrest Gri...</td>\n",
       "      <td>2014-10-10</td>\n",
       "      <td>https://www.huffingtonpost.com/entry/st-louis-...</td>\n",
       "      <td></td>\n",
       "      <td>CRIME</td>\n",
       "    </tr>\n",
       "    <tr>\n",
       "      <th>49510</th>\n",
       "      <td>Plus first looks at Gaston, Cogsworth and Lumi...</td>\n",
       "      <td>Sneak A Peek At The Human Prince In 'Beauty An...</td>\n",
       "      <td>2016-08-27</td>\n",
       "      <td>https://www.huffingtonpost.com/entry/beauty-an...</td>\n",
       "      <td>Hilary Hanson</td>\n",
       "      <td>ENTERTAINMENT</td>\n",
       "    </tr>\n",
       "    <tr>\n",
       "      <th>99645</th>\n",
       "      <td></td>\n",
       "      <td>Moving Photos Of Rescued Dogs And Their Tattoo...</td>\n",
       "      <td>2015-02-03</td>\n",
       "      <td>https://www.huffingtonpost.com/entry/tattoos-a...</td>\n",
       "      <td>Arin Greenwood</td>\n",
       "      <td>GOOD NEWS</td>\n",
       "    </tr>\n",
       "    <tr>\n",
       "      <th>856</th>\n",
       "      <td>But the finder has raised questions by changin...</td>\n",
       "      <td>Woman Says She Took Home 'Kittens,' Only To Fi...</td>\n",
       "      <td>2018-05-10</td>\n",
       "      <td>https://www.huffingtonpost.com/entry/bobcats-k...</td>\n",
       "      <td>Hilary Hanson</td>\n",
       "      <td>WEIRD NEWS</td>\n",
       "    </tr>\n",
       "    <tr>\n",
       "      <th>5853</th>\n",
       "      <td>Min, skating for South Korea, completed her sh...</td>\n",
       "      <td>Olympics Figure Skater Yura Min Overcomes Ward...</td>\n",
       "      <td>2018-02-11</td>\n",
       "      <td>https://www.huffingtonpost.com/entry/olympics-...</td>\n",
       "      <td>Dominique Mosbergen</td>\n",
       "      <td>SPORTS</td>\n",
       "    </tr>\n",
       "  </tbody>\n",
       "</table>\n",
       "</div>"
      ],
      "text/plain": [
       "                                        short_description   \n",
       "109770                                                     \\\n",
       "49510   Plus first looks at Gaston, Cogsworth and Lumi...   \n",
       "99645                                                       \n",
       "856     But the finder has raised questions by changin...   \n",
       "5853    Min, skating for South Korea, completed her sh...   \n",
       "\n",
       "                                                 headline       date   \n",
       "109770  Protesters Clash With Police As New Unrest Gri... 2014-10-10  \\\n",
       "49510   Sneak A Peek At The Human Prince In 'Beauty An... 2016-08-27   \n",
       "99645   Moving Photos Of Rescued Dogs And Their Tattoo... 2015-02-03   \n",
       "856     Woman Says She Took Home 'Kittens,' Only To Fi... 2018-05-10   \n",
       "5853    Olympics Figure Skater Yura Min Overcomes Ward... 2018-02-11   \n",
       "\n",
       "                                                     link   \n",
       "109770  https://www.huffingtonpost.com/entry/st-louis-...  \\\n",
       "49510   https://www.huffingtonpost.com/entry/beauty-an...   \n",
       "99645   https://www.huffingtonpost.com/entry/tattoos-a...   \n",
       "856     https://www.huffingtonpost.com/entry/bobcats-k...   \n",
       "5853    https://www.huffingtonpost.com/entry/olympics-...   \n",
       "\n",
       "                    authors       category  \n",
       "109770                               CRIME  \n",
       "49510         Hilary Hanson  ENTERTAINMENT  \n",
       "99645        Arin Greenwood      GOOD NEWS  \n",
       "856           Hilary Hanson     WEIRD NEWS  \n",
       "5853    Dominique Mosbergen         SPORTS  "
      ]
     },
     "execution_count": 6,
     "metadata": {},
     "output_type": "execute_result"
    }
   ],
   "source": [
    "df = pd.read_json('News_Category_Dataset.json', lines = True)\n",
    "df.sample(5)"
   ]
  },
  {
   "cell_type": "code",
   "execution_count": 34,
   "id": "d30954b5",
   "metadata": {},
   "outputs": [
    {
     "data": {
      "text/plain": [
       "category\n",
       "POLITICS          32739\n",
       "ENTERTAINMENT     14257\n",
       "HEALTHY LIVING     6694\n",
       "QUEER VOICES       4995\n",
       "BUSINESS           4254\n",
       "SPORTS             4167\n",
       "COMEDY             3971\n",
       "PARENTS            3955\n",
       "BLACK VOICES       3858\n",
       "THE WORLDPOST      3664\n",
       "WOMEN              3490\n",
       "CRIME              2893\n",
       "MEDIA              2815\n",
       "WEIRD NEWS         2670\n",
       "GREEN              2622\n",
       "IMPACT             2602\n",
       "WORLDPOST          2579\n",
       "RELIGION           2556\n",
       "STYLE              2254\n",
       "WORLD NEWS         2177\n",
       "TRAVEL             2145\n",
       "TASTE              2096\n",
       "ARTS               1509\n",
       "FIFTY              1401\n",
       "GOOD NEWS          1398\n",
       "SCIENCE            1381\n",
       "ARTS & CULTURE     1339\n",
       "TECH               1231\n",
       "COLLEGE            1144\n",
       "LATINO VOICES      1129\n",
       "EDUCATION          1004\n",
       "Name: count, dtype: int64"
      ]
     },
     "execution_count": 34,
     "metadata": {},
     "output_type": "execute_result"
    }
   ],
   "source": [
    "(df.category.value_counts())"
   ]
  },
  {
   "cell_type": "code",
   "execution_count": 16,
   "id": "d5debec2",
   "metadata": {},
   "outputs": [
    {
     "data": {
      "text/html": [
       "<div>\n",
       "<style scoped>\n",
       "    .dataframe tbody tr th:only-of-type {\n",
       "        vertical-align: middle;\n",
       "    }\n",
       "\n",
       "    .dataframe tbody tr th {\n",
       "        vertical-align: top;\n",
       "    }\n",
       "\n",
       "    .dataframe thead th {\n",
       "        text-align: right;\n",
       "    }\n",
       "</style>\n",
       "<table border=\"1\" class=\"dataframe\">\n",
       "  <thead>\n",
       "    <tr style=\"text-align: right;\">\n",
       "      <th></th>\n",
       "      <th>short_description</th>\n",
       "      <th>headline</th>\n",
       "      <th>category</th>\n",
       "    </tr>\n",
       "  </thead>\n",
       "  <tbody>\n",
       "    <tr>\n",
       "      <th>0</th>\n",
       "      <td>She left her husband. He killed their children...</td>\n",
       "      <td>There Were 2 Mass Shootings In Texas Last Week...</td>\n",
       "      <td>CRIME</td>\n",
       "    </tr>\n",
       "    <tr>\n",
       "      <th>1</th>\n",
       "      <td>Of course it has a song.</td>\n",
       "      <td>Will Smith Joins Diplo And Nicky Jam For The 2...</td>\n",
       "      <td>ENTERTAINMENT</td>\n",
       "    </tr>\n",
       "    <tr>\n",
       "      <th>2</th>\n",
       "      <td>The actor and his longtime girlfriend Anna Ebe...</td>\n",
       "      <td>Hugh Grant Marries For The First Time At Age 57</td>\n",
       "      <td>ENTERTAINMENT</td>\n",
       "    </tr>\n",
       "    <tr>\n",
       "      <th>3</th>\n",
       "      <td>The actor gives Dems an ass-kicking for not fi...</td>\n",
       "      <td>Jim Carrey Blasts 'Castrato' Adam Schiff And D...</td>\n",
       "      <td>ENTERTAINMENT</td>\n",
       "    </tr>\n",
       "    <tr>\n",
       "      <th>4</th>\n",
       "      <td>The \"Dietland\" actress said using the bags is ...</td>\n",
       "      <td>Julianna Margulies Uses Donald Trump Poop Bags...</td>\n",
       "      <td>ENTERTAINMENT</td>\n",
       "    </tr>\n",
       "  </tbody>\n",
       "</table>\n",
       "</div>"
      ],
      "text/plain": [
       "                                   short_description   \n",
       "0  She left her husband. He killed their children...  \\\n",
       "1                           Of course it has a song.   \n",
       "2  The actor and his longtime girlfriend Anna Ebe...   \n",
       "3  The actor gives Dems an ass-kicking for not fi...   \n",
       "4  The \"Dietland\" actress said using the bags is ...   \n",
       "\n",
       "                                            headline       category  \n",
       "0  There Were 2 Mass Shootings In Texas Last Week...          CRIME  \n",
       "1  Will Smith Joins Diplo And Nicky Jam For The 2...  ENTERTAINMENT  \n",
       "2    Hugh Grant Marries For The First Time At Age 57  ENTERTAINMENT  \n",
       "3  Jim Carrey Blasts 'Castrato' Adam Schiff And D...  ENTERTAINMENT  \n",
       "4  Julianna Margulies Uses Donald Trump Poop Bags...  ENTERTAINMENT  "
      ]
     },
     "execution_count": 16,
     "metadata": {},
     "output_type": "execute_result"
    }
   ],
   "source": [
    "df = df.drop(['date', 'link', 'authors'], axis = 1)\n",
    "df.head()"
   ]
  },
  {
   "cell_type": "code",
   "execution_count": 19,
   "id": "ae7a2c64",
   "metadata": {},
   "outputs": [
    {
     "data": {
      "text/plain": [
       "'The pop star also wore a \"Santa Fe Strong\" shirt at his show in Houston.'"
      ]
     },
     "execution_count": 19,
     "metadata": {},
     "output_type": "execute_result"
    }
   ],
   "source": [
    "df.short_description[10]"
   ]
  },
  {
   "cell_type": "code",
   "execution_count": 20,
   "id": "80b0c7ba",
   "metadata": {},
   "outputs": [
    {
     "data": {
      "text/plain": [
       "'Justin Timberlake Visits Texas School Shooting Victims'"
      ]
     },
     "execution_count": 20,
     "metadata": {},
     "output_type": "execute_result"
    }
   ],
   "source": [
    "df.headline[10]"
   ]
  },
  {
   "cell_type": "code",
   "execution_count": 22,
   "id": "9f11cdc4",
   "metadata": {},
   "outputs": [
    {
     "data": {
      "text/plain": [
       "pandas.core.series.Series"
      ]
     },
     "execution_count": 22,
     "metadata": {},
     "output_type": "execute_result"
    }
   ],
   "source": [
    "mg = pd.concat([df.short_description, df.headline])\n",
    "type(mg)"
   ]
  },
  {
   "cell_type": "code",
   "execution_count": 26,
   "id": "82e6104d",
   "metadata": {},
   "outputs": [
    {
     "data": {
      "text/html": [
       "<div>\n",
       "<style scoped>\n",
       "    .dataframe tbody tr th:only-of-type {\n",
       "        vertical-align: middle;\n",
       "    }\n",
       "\n",
       "    .dataframe tbody tr th {\n",
       "        vertical-align: top;\n",
       "    }\n",
       "\n",
       "    .dataframe thead th {\n",
       "        text-align: right;\n",
       "    }\n",
       "</style>\n",
       "<table border=\"1\" class=\"dataframe\">\n",
       "  <thead>\n",
       "    <tr style=\"text-align: right;\">\n",
       "      <th></th>\n",
       "      <th>short_description</th>\n",
       "      <th>headline</th>\n",
       "      <th>category</th>\n",
       "    </tr>\n",
       "  </thead>\n",
       "  <tbody>\n",
       "    <tr>\n",
       "      <th>102105</th>\n",
       "      <td>This reported phrase from the Sermon on the Mo...</td>\n",
       "      <td>The Beam in One's Own Eye</td>\n",
       "      <td>WORLDPOST</td>\n",
       "    </tr>\n",
       "    <tr>\n",
       "      <th>92603</th>\n",
       "      <td>Amazing.</td>\n",
       "      <td>Dwight Howard Responds To LeBron James' Full-C...</td>\n",
       "      <td>SPORTS</td>\n",
       "    </tr>\n",
       "    <tr>\n",
       "      <th>80957</th>\n",
       "      <td>\"We obviously paid for those services and did ...</td>\n",
       "      <td>Hillary Clinton Says Family Paid State Departm...</td>\n",
       "      <td>POLITICS</td>\n",
       "    </tr>\n",
       "    <tr>\n",
       "      <th>119724</th>\n",
       "      <td></td>\n",
       "      <td>USA Photographer Of The Year Winners Show Off ...</td>\n",
       "      <td>TRAVEL</td>\n",
       "    </tr>\n",
       "    <tr>\n",
       "      <th>78923</th>\n",
       "      <td>The 31-year-old comedian debuts as host on \"Th...</td>\n",
       "      <td>Here's What Happened On Trevor Noah's First 'D...</td>\n",
       "      <td>COMEDY</td>\n",
       "    </tr>\n",
       "  </tbody>\n",
       "</table>\n",
       "</div>"
      ],
      "text/plain": [
       "                                        short_description   \n",
       "102105  This reported phrase from the Sermon on the Mo...  \\\n",
       "92603                                            Amazing.   \n",
       "80957   \"We obviously paid for those services and did ...   \n",
       "119724                                                      \n",
       "78923   The 31-year-old comedian debuts as host on \"Th...   \n",
       "\n",
       "                                                 headline   category  \n",
       "102105                          The Beam in One's Own Eye  WORLDPOST  \n",
       "92603   Dwight Howard Responds To LeBron James' Full-C...     SPORTS  \n",
       "80957   Hillary Clinton Says Family Paid State Departm...   POLITICS  \n",
       "119724  USA Photographer Of The Year Winners Show Off ...     TRAVEL  \n",
       "78923   Here's What Happened On Trevor Noah's First 'D...     COMEDY  "
      ]
     },
     "execution_count": 26,
     "metadata": {},
     "output_type": "execute_result"
    }
   ],
   "source": [
    "df.sample(5)"
   ]
  },
  {
   "cell_type": "code",
   "execution_count": 27,
   "id": "36148089",
   "metadata": {},
   "outputs": [
    {
     "data": {
      "text/plain": [
       "(124989, 3)"
      ]
     },
     "execution_count": 27,
     "metadata": {},
     "output_type": "execute_result"
    }
   ],
   "source": [
    "df.shape"
   ]
  },
  {
   "cell_type": "code",
   "execution_count": 28,
   "id": "8b77562d",
   "metadata": {},
   "outputs": [],
   "source": [
    "min_samples = 3900 # we have these many SCIENCE articles and SCIENCE is our minority class\n",
    "\n",
    "\n",
    "df_business = df[df.category==\"BUSINESS\"].sample(min_samples, random_state=2022)\n",
    "df_sports = df[df.category==\"SPORTS\"].sample(min_samples, random_state=2022)\n",
    "df_crime = df[df.category==\"COMEDY\"].sample(min_samples, random_state=2022)\n",
    "df_science = df[df.category==\"PARENTS\"].sample(min_samples, random_state=2022)"
   ]
  },
  {
   "cell_type": "code",
   "execution_count": 29,
   "id": "8c6d01b6",
   "metadata": {},
   "outputs": [
    {
     "data": {
      "text/plain": [
       "category\n",
       "BUSINESS    3900\n",
       "SPORTS      3900\n",
       "COMEDY      3900\n",
       "PARENTS     3900\n",
       "Name: count, dtype: int64"
      ]
     },
     "execution_count": 29,
     "metadata": {},
     "output_type": "execute_result"
    }
   ],
   "source": [
    "df_balanced = pd.concat([df_business,df_sports,df_crime,df_science],axis=0)\n",
    "df_balanced.category.value_counts()"
   ]
  },
  {
   "cell_type": "code",
   "execution_count": 31,
   "id": "c69d8b74",
   "metadata": {},
   "outputs": [
    {
     "data": {
      "text/html": [
       "<div>\n",
       "<style scoped>\n",
       "    .dataframe tbody tr th:only-of-type {\n",
       "        vertical-align: middle;\n",
       "    }\n",
       "\n",
       "    .dataframe tbody tr th {\n",
       "        vertical-align: top;\n",
       "    }\n",
       "\n",
       "    .dataframe thead th {\n",
       "        text-align: right;\n",
       "    }\n",
       "</style>\n",
       "<table border=\"1\" class=\"dataframe\">\n",
       "  <thead>\n",
       "    <tr style=\"text-align: right;\">\n",
       "      <th></th>\n",
       "      <th>short_description</th>\n",
       "      <th>headline</th>\n",
       "      <th>category</th>\n",
       "    </tr>\n",
       "  </thead>\n",
       "  <tbody>\n",
       "    <tr>\n",
       "      <th>102341</th>\n",
       "      <td>Channel your burst of New Year's enthusiasm by...</td>\n",
       "      <td>Office Etiquette: Nine Ways to Strengthen Work...</td>\n",
       "      <td>BUSINESS</td>\n",
       "    </tr>\n",
       "    <tr>\n",
       "      <th>111206</th>\n",
       "      <td>I love my daughter. She's beautiful inside and...</td>\n",
       "      <td>This Ordinary Family</td>\n",
       "      <td>PARENTS</td>\n",
       "    </tr>\n",
       "    <tr>\n",
       "      <th>45053</th>\n",
       "      <td>Rules are rules, unfortunately.</td>\n",
       "      <td>The No Fun League Made Its Dumbest Celebration...</td>\n",
       "      <td>SPORTS</td>\n",
       "    </tr>\n",
       "    <tr>\n",
       "      <th>119504</th>\n",
       "      <td></td>\n",
       "      <td>Follow Live: Belgium vs. Russia</td>\n",
       "      <td>SPORTS</td>\n",
       "    </tr>\n",
       "    <tr>\n",
       "      <th>20634</th>\n",
       "      <td>There were a lot of topics I considered writin...</td>\n",
       "      <td>Mental Health And Childbirth: Do What Feels Ri...</td>\n",
       "      <td>PARENTS</td>\n",
       "    </tr>\n",
       "  </tbody>\n",
       "</table>\n",
       "</div>"
      ],
      "text/plain": [
       "                                        short_description   \n",
       "102341  Channel your burst of New Year's enthusiasm by...  \\\n",
       "111206  I love my daughter. She's beautiful inside and...   \n",
       "45053                     Rules are rules, unfortunately.   \n",
       "119504                                                      \n",
       "20634   There were a lot of topics I considered writin...   \n",
       "\n",
       "                                                 headline  category  \n",
       "102341  Office Etiquette: Nine Ways to Strengthen Work...  BUSINESS  \n",
       "111206                               This Ordinary Family   PARENTS  \n",
       "45053   The No Fun League Made Its Dumbest Celebration...    SPORTS  \n",
       "119504                    Follow Live: Belgium vs. Russia    SPORTS  \n",
       "20634   Mental Health And Childbirth: Do What Feels Ri...   PARENTS  "
      ]
     },
     "execution_count": 31,
     "metadata": {},
     "output_type": "execute_result"
    }
   ],
   "source": [
    "df_balanced.sample(5)"
   ]
  },
  {
   "cell_type": "code",
   "execution_count": 44,
   "id": "cb270bf8",
   "metadata": {},
   "outputs": [],
   "source": [
    "df_balanced.category = df_balanced.category.map({\n",
    "    'BUSINESS': 0,\n",
    "    'SPORTS': 1, \n",
    "    'COMEDY': 2, \n",
    "    'PARENTS': 3\n",
    "})"
   ]
  },
  {
   "cell_type": "code",
   "execution_count": 49,
   "id": "865a19fb",
   "metadata": {},
   "outputs": [
    {
     "data": {
      "text/html": [
       "<div>\n",
       "<style scoped>\n",
       "    .dataframe tbody tr th:only-of-type {\n",
       "        vertical-align: middle;\n",
       "    }\n",
       "\n",
       "    .dataframe tbody tr th {\n",
       "        vertical-align: top;\n",
       "    }\n",
       "\n",
       "    .dataframe thead th {\n",
       "        text-align: right;\n",
       "    }\n",
       "</style>\n",
       "<table border=\"1\" class=\"dataframe\">\n",
       "  <thead>\n",
       "    <tr style=\"text-align: right;\">\n",
       "      <th></th>\n",
       "      <th>short_description</th>\n",
       "      <th>headline</th>\n",
       "      <th>category</th>\n",
       "    </tr>\n",
       "  </thead>\n",
       "  <tbody>\n",
       "    <tr>\n",
       "      <th>99082</th>\n",
       "      <td>Sports consumption is inherently personal, and...</td>\n",
       "      <td>From Uniform &amp; Impersonal to Personalized and ...</td>\n",
       "      <td>0</td>\n",
       "    </tr>\n",
       "    <tr>\n",
       "      <th>12429</th>\n",
       "      <td>Wee Channing still has big moves.</td>\n",
       "      <td>This 'Magic Mike XXS' Parody Won't Fix Your Pr...</td>\n",
       "      <td>2</td>\n",
       "    </tr>\n",
       "    <tr>\n",
       "      <th>14526</th>\n",
       "      <td>There are 15 million Americans estimated to su...</td>\n",
       "      <td>Please, set a place for me at the table.</td>\n",
       "      <td>3</td>\n",
       "    </tr>\n",
       "    <tr>\n",
       "      <th>33527</th>\n",
       "      <td>Let's see how that went down.</td>\n",
       "      <td>Conan O'Brien Hits Mexico City To Raise Cash F...</td>\n",
       "      <td>2</td>\n",
       "    </tr>\n",
       "    <tr>\n",
       "      <th>107042</th>\n",
       "      <td>Gratitude is a key element in defining a perso...</td>\n",
       "      <td>Finding Thanks in Thanksgiving</td>\n",
       "      <td>3</td>\n",
       "    </tr>\n",
       "  </tbody>\n",
       "</table>\n",
       "</div>"
      ],
      "text/plain": [
       "                                        short_description   \n",
       "99082   Sports consumption is inherently personal, and...  \\\n",
       "12429                   Wee Channing still has big moves.   \n",
       "14526   There are 15 million Americans estimated to su...   \n",
       "33527                       Let's see how that went down.   \n",
       "107042  Gratitude is a key element in defining a perso...   \n",
       "\n",
       "                                                 headline  category  \n",
       "99082   From Uniform & Impersonal to Personalized and ...         0  \n",
       "12429   This 'Magic Mike XXS' Parody Won't Fix Your Pr...         2  \n",
       "14526            Please, set a place for me at the table.         3  \n",
       "33527   Conan O'Brien Hits Mexico City To Raise Cash F...         2  \n",
       "107042                     Finding Thanks in Thanksgiving         3  "
      ]
     },
     "execution_count": 49,
     "metadata": {},
     "output_type": "execute_result"
    }
   ],
   "source": [
    "df_balanced.sample(5)"
   ]
  },
  {
   "cell_type": "code",
   "execution_count": 57,
   "id": "52b56bd1",
   "metadata": {},
   "outputs": [],
   "source": [
    "df_balanced[\"text\"] = df_balanced[[\"short_description\", \"headline\"]].apply(\"-\".join, axis=1)"
   ]
  },
  {
   "cell_type": "code",
   "execution_count": 58,
   "id": "8a9629d5",
   "metadata": {},
   "outputs": [
    {
     "data": {
      "text/html": [
       "<div>\n",
       "<style scoped>\n",
       "    .dataframe tbody tr th:only-of-type {\n",
       "        vertical-align: middle;\n",
       "    }\n",
       "\n",
       "    .dataframe tbody tr th {\n",
       "        vertical-align: top;\n",
       "    }\n",
       "\n",
       "    .dataframe thead th {\n",
       "        text-align: right;\n",
       "    }\n",
       "</style>\n",
       "<table border=\"1\" class=\"dataframe\">\n",
       "  <thead>\n",
       "    <tr style=\"text-align: right;\">\n",
       "      <th></th>\n",
       "      <th>short_description</th>\n",
       "      <th>headline</th>\n",
       "      <th>category</th>\n",
       "      <th>text</th>\n",
       "    </tr>\n",
       "  </thead>\n",
       "  <tbody>\n",
       "    <tr>\n",
       "      <th>35417</th>\n",
       "      <td>Release the puppies!</td>\n",
       "      <td>Your Sunday Is Open Again Because These Puppie...</td>\n",
       "      <td>2</td>\n",
       "      <td>Release the puppies!-Your Sunday Is Open Again...</td>\n",
       "    </tr>\n",
       "    <tr>\n",
       "      <th>113618</th>\n",
       "      <td></td>\n",
       "      <td>9-Year-Old Realizes What's Wrong With \"Throws ...</td>\n",
       "      <td>3</td>\n",
       "      <td>-9-Year-Old Realizes What's Wrong With \"Throws...</td>\n",
       "    </tr>\n",
       "    <tr>\n",
       "      <th>112883</th>\n",
       "      <td></td>\n",
       "      <td>How To Teach Your Children Empathy</td>\n",
       "      <td>3</td>\n",
       "      <td>-How To Teach Your Children Empathy</td>\n",
       "    </tr>\n",
       "    <tr>\n",
       "      <th>5717</th>\n",
       "      <td>The first black woman on U.S. Olympic short-tr...</td>\n",
       "      <td>Maame Biney Is Now Down To Her Last Shot In Th...</td>\n",
       "      <td>1</td>\n",
       "      <td>The first black woman on U.S. Olympic short-tr...</td>\n",
       "    </tr>\n",
       "    <tr>\n",
       "      <th>97953</th>\n",
       "      <td>The biggest problem is not who receives the de...</td>\n",
       "      <td>This Is How Normal People Feel About the Death...</td>\n",
       "      <td>2</td>\n",
       "      <td>The biggest problem is not who receives the de...</td>\n",
       "    </tr>\n",
       "  </tbody>\n",
       "</table>\n",
       "</div>"
      ],
      "text/plain": [
       "                                        short_description   \n",
       "35417                                Release the puppies!  \\\n",
       "113618                                                      \n",
       "112883                                                      \n",
       "5717    The first black woman on U.S. Olympic short-tr...   \n",
       "97953   The biggest problem is not who receives the de...   \n",
       "\n",
       "                                                 headline  category   \n",
       "35417   Your Sunday Is Open Again Because These Puppie...         2  \\\n",
       "113618  9-Year-Old Realizes What's Wrong With \"Throws ...         3   \n",
       "112883                 How To Teach Your Children Empathy         3   \n",
       "5717    Maame Biney Is Now Down To Her Last Shot In Th...         1   \n",
       "97953   This Is How Normal People Feel About the Death...         2   \n",
       "\n",
       "                                                     text  \n",
       "35417   Release the puppies!-Your Sunday Is Open Again...  \n",
       "113618  -9-Year-Old Realizes What's Wrong With \"Throws...  \n",
       "112883                -How To Teach Your Children Empathy  \n",
       "5717    The first black woman on U.S. Olympic short-tr...  \n",
       "97953   The biggest problem is not who receives the de...  "
      ]
     },
     "execution_count": 58,
     "metadata": {},
     "output_type": "execute_result"
    }
   ],
   "source": [
    "df_balanced.sample(5)"
   ]
  },
  {
   "cell_type": "code",
   "execution_count": 45,
   "id": "1f8e8d0c",
   "metadata": {},
   "outputs": [],
   "source": [
    "from sklearn.model_selection import train_test_split"
   ]
  },
  {
   "cell_type": "code",
   "execution_count": 59,
   "id": "b7490a6f",
   "metadata": {},
   "outputs": [],
   "source": [
    "xtrain, xtest, ytrain, ytest = train_test_split(df_balanced.text, df_balanced.category, test_size=0.2, stratify= df_balanced.category, random_state = 21)"
   ]
  },
  {
   "cell_type": "code",
   "execution_count": 60,
   "id": "11930ff6",
   "metadata": {},
   "outputs": [
    {
     "data": {
      "text/plain": [
       "(12480,)"
      ]
     },
     "execution_count": 60,
     "metadata": {},
     "output_type": "execute_result"
    }
   ],
   "source": [
    "xtrain.shape"
   ]
  },
  {
   "cell_type": "code",
   "execution_count": 61,
   "id": "4ab602ce",
   "metadata": {},
   "outputs": [
    {
     "data": {
      "text/plain": [
       "category\n",
       "2    3120\n",
       "3    3120\n",
       "0    3120\n",
       "1    3120\n",
       "Name: count, dtype: int64"
      ]
     },
     "execution_count": 61,
     "metadata": {},
     "output_type": "execute_result"
    }
   ],
   "source": [
    "ytrain.value_counts()"
   ]
  },
  {
   "cell_type": "code",
   "execution_count": 42,
   "id": "257d3598",
   "metadata": {},
   "outputs": [],
   "source": [
    "from sklearn.pipeline import Pipeline"
   ]
  },
  {
   "cell_type": "code",
   "execution_count": 55,
   "id": "e3f281ce",
   "metadata": {},
   "outputs": [],
   "source": [
    "from sklearn.metrics import classification_report"
   ]
  },
  {
   "cell_type": "code",
   "execution_count": 54,
   "id": "7d653733",
   "metadata": {},
   "outputs": [],
   "source": [
    "from sklearn.naive_bayes import MultinomialNB\n",
    "from sklearn.feature_extraction.text import CountVectorizer"
   ]
  },
  {
   "cell_type": "code",
   "execution_count": 62,
   "id": "3bcfeb71",
   "metadata": {},
   "outputs": [
    {
     "name": "stdout",
     "output_type": "stream",
     "text": [
      "              precision    recall  f1-score   support\n",
      "\n",
      "           0       0.88      0.86      0.87       780\n",
      "           1       0.91      0.86      0.89       780\n",
      "           2       0.87      0.73      0.79       780\n",
      "           3       0.76      0.94      0.84       780\n",
      "\n",
      "    accuracy                           0.85      3120\n",
      "   macro avg       0.86      0.85      0.85      3120\n",
      "weighted avg       0.86      0.85      0.85      3120\n",
      "\n"
     ]
    }
   ],
   "source": [
    "clf = Pipeline([\n",
    "    ('countvector', CountVectorizer()),\n",
    "    ('model', MultinomialNB())\n",
    "])\n",
    "\n",
    "clf.fit(xtrain, ytrain)\n",
    "\n",
    "y_pred = clf.predict(xtest)\n",
    "print(classification_report(ytest, y_pred))"
   ]
  },
  {
   "cell_type": "code",
   "execution_count": 63,
   "id": "7d6ec24b",
   "metadata": {},
   "outputs": [],
   "source": [
    "nlp = spacy.load('en_core_web_sm')\n",
    "def preproces(text):\n",
    "    processed_list = []\n",
    "    doc = nlp(text)\n",
    "    for token in doc:\n",
    "        if token.is_punct or token.is_stop:\n",
    "            continue\n",
    "        processed_list.append(token.lemma_)\n",
    "    return \" \".join(processed_list)"
   ]
  },
  {
   "cell_type": "code",
   "execution_count": 64,
   "id": "86314c46",
   "metadata": {},
   "outputs": [
    {
     "data": {
      "text/html": [
       "<div>\n",
       "<style scoped>\n",
       "    .dataframe tbody tr th:only-of-type {\n",
       "        vertical-align: middle;\n",
       "    }\n",
       "\n",
       "    .dataframe tbody tr th {\n",
       "        vertical-align: top;\n",
       "    }\n",
       "\n",
       "    .dataframe thead th {\n",
       "        text-align: right;\n",
       "    }\n",
       "</style>\n",
       "<table border=\"1\" class=\"dataframe\">\n",
       "  <thead>\n",
       "    <tr style=\"text-align: right;\">\n",
       "      <th></th>\n",
       "      <th>short_description</th>\n",
       "      <th>headline</th>\n",
       "      <th>category</th>\n",
       "      <th>text</th>\n",
       "    </tr>\n",
       "  </thead>\n",
       "  <tbody>\n",
       "    <tr>\n",
       "      <th>63516</th>\n",
       "      <td>\"I'm a KID.\"</td>\n",
       "      <td>Little League Sign For Parents Gets Straight T...</td>\n",
       "      <td>3</td>\n",
       "      <td>\"I'm a KID.\"-Little League Sign For Parents Ge...</td>\n",
       "    </tr>\n",
       "    <tr>\n",
       "      <th>53513</th>\n",
       "      <td>For pregnant women, taking prenatal vitamins m...</td>\n",
       "      <td>Prenatal Multivitamins Don't Help Much, Study ...</td>\n",
       "      <td>3</td>\n",
       "      <td>For pregnant women, taking prenatal vitamins m...</td>\n",
       "    </tr>\n",
       "    <tr>\n",
       "      <th>106417</th>\n",
       "      <td></td>\n",
       "      <td>THE CFPB Launches No-Action Letters for Financ...</td>\n",
       "      <td>0</td>\n",
       "      <td>-THE CFPB Launches No-Action Letters for Finan...</td>\n",
       "    </tr>\n",
       "  </tbody>\n",
       "</table>\n",
       "</div>"
      ],
      "text/plain": [
       "                                        short_description   \n",
       "63516                                        \"I'm a KID.\"  \\\n",
       "53513   For pregnant women, taking prenatal vitamins m...   \n",
       "106417                                                      \n",
       "\n",
       "                                                 headline  category   \n",
       "63516   Little League Sign For Parents Gets Straight T...         3  \\\n",
       "53513   Prenatal Multivitamins Don't Help Much, Study ...         3   \n",
       "106417  THE CFPB Launches No-Action Letters for Financ...         0   \n",
       "\n",
       "                                                     text  \n",
       "63516   \"I'm a KID.\"-Little League Sign For Parents Ge...  \n",
       "53513   For pregnant women, taking prenatal vitamins m...  \n",
       "106417  -THE CFPB Launches No-Action Letters for Finan...  "
      ]
     },
     "execution_count": 64,
     "metadata": {},
     "output_type": "execute_result"
    }
   ],
   "source": [
    "df_balanced.sample(3)"
   ]
  },
  {
   "cell_type": "code",
   "execution_count": 66,
   "id": "bba25945",
   "metadata": {},
   "outputs": [],
   "source": [
    "df_balanced['preprocess_text'] = df_balanced.text.apply(preproces)"
   ]
  },
  {
   "cell_type": "code",
   "execution_count": 67,
   "id": "4d604362",
   "metadata": {},
   "outputs": [],
   "source": [
    "xtrain, xtest, ytrain, ytest = train_test_split(\n",
    "    df_balanced.preprocess_text, df_balanced.category,\n",
    "    test_size=0.2, stratify= df_balanced.category, random_state = 21)"
   ]
  },
  {
   "cell_type": "code",
   "execution_count": 68,
   "id": "bfd864b2",
   "metadata": {},
   "outputs": [
    {
     "name": "stdout",
     "output_type": "stream",
     "text": [
      "              precision    recall  f1-score   support\n",
      "\n",
      "           0       0.89      0.88      0.88       780\n",
      "           1       0.92      0.89      0.90       780\n",
      "           2       0.86      0.76      0.81       780\n",
      "           3       0.80      0.93      0.86       780\n",
      "\n",
      "    accuracy                           0.87      3120\n",
      "   macro avg       0.87      0.87      0.86      3120\n",
      "weighted avg       0.87      0.87      0.86      3120\n",
      "\n"
     ]
    }
   ],
   "source": [
    "clf = Pipeline([\n",
    "    ('countvector', CountVectorizer()),\n",
    "    ('model', MultinomialNB())\n",
    "])\n",
    "\n",
    "clf.fit(xtrain, ytrain)\n",
    "\n",
    "y_pred = clf.predict(xtest)\n",
    "print(classification_report(ytest, y_pred))"
   ]
  },
  {
   "cell_type": "code",
   "execution_count": 74,
   "id": "42e05208",
   "metadata": {},
   "outputs": [
    {
     "data": {
      "text/plain": [
       "109999    0\n",
       "5956      1\n",
       "51296     1\n",
       "22367     2\n",
       "28761     2\n",
       "Name: category, dtype: int64"
      ]
     },
     "execution_count": 74,
     "metadata": {},
     "output_type": "execute_result"
    }
   ],
   "source": [
    "ytest[:5]"
   ]
  },
  {
   "cell_type": "code",
   "execution_count": 70,
   "id": "ffc2cf69",
   "metadata": {},
   "outputs": [
    {
     "data": {
      "text/plain": [
       "array([0, 1, 1, 3, 2], dtype=int64)"
      ]
     },
     "execution_count": 70,
     "metadata": {},
     "output_type": "execute_result"
    }
   ],
   "source": [
    "y_pred[:5]"
   ]
  },
  {
   "cell_type": "code",
   "execution_count": 71,
   "id": "021df4d1",
   "metadata": {},
   "outputs": [],
   "source": [
    "from sklearn.ensemble import RandomForestClassifierc"
   ]
  },
  {
   "cell_type": "code",
   "execution_count": 73,
   "id": "caca8a64",
   "metadata": {},
   "outputs": [
    {
     "name": "stdout",
     "output_type": "stream",
     "text": [
      "              precision    recall  f1-score   support\n",
      "\n",
      "           0       0.85      0.84      0.85       780\n",
      "           1       0.91      0.79      0.84       780\n",
      "           2       0.75      0.85      0.80       780\n",
      "           3       0.88      0.90      0.89       780\n",
      "\n",
      "    accuracy                           0.84      3120\n",
      "   macro avg       0.85      0.84      0.84      3120\n",
      "weighted avg       0.85      0.84      0.84      3120\n",
      "\n"
     ]
    }
   ],
   "source": [
    "clf = Pipeline([\n",
    "    ('countvector', CountVectorizer(ngram_range=(1,3))),\n",
    "    ('model', RandomForestClassifier())\n",
    "])\n",
    "\n",
    "clf.fit(xtrain, ytrain)\n",
    "\n",
    "y_pred = clf.predict(xtest)\n",
    "print(classification_report(ytest, y_pred))"
   ]
  }
 ],
 "metadata": {
  "kernelspec": {
   "display_name": "Python 3 (ipykernel)",
   "language": "python",
   "name": "python3"
  },
  "language_info": {
   "codemirror_mode": {
    "name": "ipython",
    "version": 3
   },
   "file_extension": ".py",
   "mimetype": "text/x-python",
   "name": "python",
   "nbconvert_exporter": "python",
   "pygments_lexer": "ipython3",
   "version": "3.9.0"
  }
 },
 "nbformat": 4,
 "nbformat_minor": 5
}
