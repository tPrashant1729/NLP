{
 "cells": [
  {
   "cell_type": "code",
   "execution_count": 1,
   "id": "b923058f",
   "metadata": {},
   "outputs": [],
   "source": [
    "import spacy"
   ]
  },
  {
   "cell_type": "code",
   "execution_count": 3,
   "id": "c660bf88",
   "metadata": {},
   "outputs": [],
   "source": [
    "nlp = spacy.blank('en')"
   ]
  },
  {
   "cell_type": "code",
   "execution_count": 24,
   "id": "15fc84f2",
   "metadata": {},
   "outputs": [],
   "source": [
    "doc = nlp(\"Evaluation Metrics: Select appropriate evaluation metrics for both binary \\\n",
    "classification and multi-class classification (e.g., accuracy, F1 score, confusion matrix).\")"
   ]
  },
  {
   "cell_type": "code",
   "execution_count": 25,
   "id": "0d0377a1",
   "metadata": {},
   "outputs": [
    {
     "name": "stdout",
     "output_type": "stream",
     "text": [
      "Evaluation\n",
      "Metrics\n",
      ":\n",
      "Select\n",
      "appropriate\n",
      "evaluation\n",
      "metrics\n",
      "for\n",
      "both\n",
      "binary\n",
      "classification\n",
      "and\n",
      "multi\n",
      "-\n",
      "class\n",
      "classification\n",
      "(\n",
      "e.g.\n",
      ",\n",
      "accuracy\n",
      ",\n",
      "F1\n",
      "score\n",
      ",\n",
      "confusion\n",
      "matrix\n",
      ")\n",
      ".\n"
     ]
    }
   ],
   "source": [
    "for token in doc:\n",
    "    print(token)"
   ]
  },
  {
   "cell_type": "code",
   "execution_count": 26,
   "id": "8070b6fb",
   "metadata": {},
   "outputs": [
    {
     "data": {
      "text/plain": [
       "[]"
      ]
     },
     "execution_count": 26,
     "metadata": {},
     "output_type": "execute_result"
    }
   ],
   "source": [
    "nlp.pipe_names"
   ]
  },
  {
   "cell_type": "code",
   "execution_count": 27,
   "id": "36bd0dab",
   "metadata": {},
   "outputs": [],
   "source": [
    "nlp2 = spacy.load('en_core_web_sm')"
   ]
  },
  {
   "cell_type": "code",
   "execution_count": 28,
   "id": "81f6b499",
   "metadata": {},
   "outputs": [
    {
     "data": {
      "text/plain": [
       "['tok2vec', 'tagger', 'parser', 'attribute_ruler', 'lemmatizer', 'ner']"
      ]
     },
     "execution_count": 28,
     "metadata": {},
     "output_type": "execute_result"
    }
   ],
   "source": [
    "nlp2.pipe_names"
   ]
  },
  {
   "cell_type": "code",
   "execution_count": 29,
   "id": "1010e282",
   "metadata": {},
   "outputs": [
    {
     "data": {
      "text/plain": [
       "{'tok2vec': 'tok2vec',\n",
       " 'tagger': 'tagger',\n",
       " 'parser': 'parser',\n",
       " 'senter': 'senter',\n",
       " 'attribute_ruler': 'attribute_ruler',\n",
       " 'lemmatizer': 'lemmatizer',\n",
       " 'ner': 'ner'}"
      ]
     },
     "execution_count": 29,
     "metadata": {},
     "output_type": "execute_result"
    }
   ],
   "source": [
    "nlp2.pipe_factories"
   ]
  },
  {
   "cell_type": "code",
   "execution_count": 31,
   "id": "03ba3708",
   "metadata": {},
   "outputs": [
    {
     "data": {
      "text/plain": [
       "[('tok2vec', <spacy.pipeline.tok2vec.Tok2Vec at 0x27b59e0c940>),\n",
       " ('tagger', <spacy.pipeline.tagger.Tagger at 0x27b59e0cee0>),\n",
       " ('parser', <spacy.pipeline.dep_parser.DependencyParser at 0x27b59e20120>),\n",
       " ('attribute_ruler',\n",
       "  <spacy.pipeline.attributeruler.AttributeRuler at 0x27b59dedb80>),\n",
       " ('lemmatizer', <spacy.lang.en.lemmatizer.EnglishLemmatizer at 0x27b59dfea80>),\n",
       " ('ner', <spacy.pipeline.ner.EntityRecognizer at 0x27b59e20190>)]"
      ]
     },
     "execution_count": 31,
     "metadata": {},
     "output_type": "execute_result"
    }
   ],
   "source": [
    "nlp2.pipeline"
   ]
  },
  {
   "cell_type": "code",
   "execution_count": 33,
   "id": "81bf4528",
   "metadata": {},
   "outputs": [],
   "source": [
    "doc2 = nlp2('Evaluation Metrics: Select appropriate evaluation metrics for both binary \\\n",
    "classification and multi-class classification (e.g., accuracy, F1 score, confusion matrix).')"
   ]
  },
  {
   "cell_type": "code",
   "execution_count": 38,
   "id": "d4f5bf19",
   "metadata": {},
   "outputs": [
    {
     "name": "stdout",
     "output_type": "stream",
     "text": [
      "Evaluation  |  noun  |  evaluation  |  0  |  0\n",
      "Metrics  |  noun  |  metric  |  1  |  11\n",
      ":  |  punctuation  |  :  |  2  |  18\n",
      "Select  |  verb  |  select  |  3  |  20\n",
      "appropriate  |  adjective  |  appropriate  |  4  |  27\n",
      "evaluation  |  noun  |  evaluation  |  5  |  39\n",
      "metrics  |  noun  |  metric  |  6  |  50\n",
      "for  |  adposition  |  for  |  7  |  58\n",
      "both  |  pronoun  |  both  |  8  |  62\n",
      "binary  |  adjective  |  binary  |  9  |  67\n",
      "classification  |  noun  |  classification  |  10  |  74\n",
      "and  |  coordinating conjunction  |  and  |  11  |  89\n",
      "multi  |  adjective  |  multi  |  12  |  93\n",
      "-  |  adjective  |  -  |  13  |  98\n",
      "class  |  adjective  |  class  |  14  |  99\n",
      "classification  |  noun  |  classification  |  15  |  105\n",
      "(  |  punctuation  |  (  |  16  |  120\n",
      "e.g.  |  adverb  |  e.g.  |  17  |  121\n",
      ",  |  punctuation  |  ,  |  18  |  125\n",
      "accuracy  |  noun  |  accuracy  |  19  |  127\n",
      ",  |  punctuation  |  ,  |  20  |  135\n",
      "F1  |  proper noun  |  F1  |  21  |  137\n",
      "score  |  noun  |  score  |  22  |  140\n",
      ",  |  punctuation  |  ,  |  23  |  145\n",
      "confusion  |  noun  |  confusion  |  24  |  147\n",
      "matrix  |  noun  |  matrix  |  25  |  157\n",
      ")  |  punctuation  |  )  |  26  |  163\n",
      ".  |  punctuation  |  .  |  27  |  164\n"
     ]
    }
   ],
   "source": [
    "for token in doc2:\n",
    "    print(token, \" | \", spacy.explain(token.pos_), \" | \", token.lemma_, \" | \", token.i, \" | \", token.idx)"
   ]
  },
  {
   "cell_type": "markdown",
   "id": "8e91debf",
   "metadata": {},
   "source": [
    "### Named Entity Recognition"
   ]
  },
  {
   "cell_type": "code",
   "execution_count": 43,
   "id": "f9420e7e",
   "metadata": {},
   "outputs": [
    {
     "name": "stdout",
     "output_type": "stream",
     "text": [
      "Tesla Inc ORG\n",
      "$45 billion MONEY\n"
     ]
    }
   ],
   "source": [
    "doc3 = nlp2('Tesla Inc is going to acquire twitter for $45 billion')\n",
    "for ent in doc3.ents:\n",
    "    print(ent.text, ent.label_)"
   ]
  },
  {
   "cell_type": "code",
   "execution_count": 48,
   "id": "75335c10",
   "metadata": {},
   "outputs": [
    {
     "data": {
      "text/html": [
       "<span class=\"tex2jax_ignore\"><div class=\"entities\" style=\"line-height: 2.5; direction: ltr\">\n",
       "<mark class=\"entity\" style=\"background: #7aecec; padding: 0.45em 0.6em; margin: 0 0.25em; line-height: 1; border-radius: 0.35em;\">\n",
       "    Tesla Inc\n",
       "    <span style=\"font-size: 0.8em; font-weight: bold; line-height: 1; border-radius: 0.35em; vertical-align: middle; margin-left: 0.5rem\">ORG</span>\n",
       "</mark>\n",
       " is going to acquire twitter for \n",
       "<mark class=\"entity\" style=\"background: #e4e7d2; padding: 0.45em 0.6em; margin: 0 0.25em; line-height: 1; border-radius: 0.35em;\">\n",
       "    $45 billion\n",
       "    <span style=\"font-size: 0.8em; font-weight: bold; line-height: 1; border-radius: 0.35em; vertical-align: middle; margin-left: 0.5rem\">MONEY</span>\n",
       "</mark>\n",
       "</div></span>"
      ],
      "text/plain": [
       "<IPython.core.display.HTML object>"
      ]
     },
     "metadata": {},
     "output_type": "display_data"
    }
   ],
   "source": [
    "from spacy import displacy\n",
    "displacy.render(doc3, style = 'ent')"
   ]
  },
  {
   "cell_type": "markdown",
   "id": "51e10baf",
   "metadata": {},
   "source": [
    "### Adding a component to a blank pipeline"
   ]
  },
  {
   "cell_type": "code",
   "execution_count": 49,
   "id": "7345ec73",
   "metadata": {},
   "outputs": [],
   "source": [
    "nlp3 = spacy.blank('en')"
   ]
  },
  {
   "cell_type": "code",
   "execution_count": 52,
   "id": "f1d9da11",
   "metadata": {},
   "outputs": [
    {
     "data": {
      "text/plain": [
       "['ner']"
      ]
     },
     "execution_count": 52,
     "metadata": {},
     "output_type": "execute_result"
    }
   ],
   "source": [
    "nlp3.pipe_names"
   ]
  },
  {
   "cell_type": "code",
   "execution_count": 51,
   "id": "b0d158d0",
   "metadata": {},
   "outputs": [
    {
     "data": {
      "text/plain": [
       "<spacy.pipeline.ner.EntityRecognizer at 0x27b59e20190>"
      ]
     },
     "execution_count": 51,
     "metadata": {},
     "output_type": "execute_result"
    }
   ],
   "source": [
    "nlp3.add_pipe('ner', source=nlp2)"
   ]
  },
  {
   "cell_type": "code",
   "execution_count": 53,
   "id": "6df92782",
   "metadata": {},
   "outputs": [
    {
     "data": {
      "text/plain": [
       "['ner']"
      ]
     },
     "execution_count": 53,
     "metadata": {},
     "output_type": "execute_result"
    }
   ],
   "source": [
    "nlp3.pipe_names"
   ]
  },
  {
   "cell_type": "code",
   "execution_count": 54,
   "id": "f9259414",
   "metadata": {},
   "outputs": [
    {
     "name": "stdout",
     "output_type": "stream",
     "text": [
      "Tesla Inc\n",
      "$45 billion\n"
     ]
    }
   ],
   "source": [
    "doc4 = nlp3('Tesla Inc is going to acquire twitter for $45 billion')\n",
    "for ent in doc4.ents:\n",
    "    print(ent)"
   ]
  }
 ],
 "metadata": {
  "kernelspec": {
   "display_name": "Python 3 (ipykernel)",
   "language": "python",
   "name": "python3"
  },
  "language_info": {
   "codemirror_mode": {
    "name": "ipython",
    "version": 3
   },
   "file_extension": ".py",
   "mimetype": "text/x-python",
   "name": "python",
   "nbconvert_exporter": "python",
   "pygments_lexer": "ipython3",
   "version": "3.9.0"
  }
 },
 "nbformat": 4,
 "nbformat_minor": 5
}
