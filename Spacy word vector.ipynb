{
 "cells": [
  {
   "cell_type": "code",
   "execution_count": 1,
   "id": "abb4d3bc",
   "metadata": {},
   "outputs": [],
   "source": [
    "import spacy"
   ]
  },
  {
   "cell_type": "code",
   "execution_count": 2,
   "id": "924e4069",
   "metadata": {},
   "outputs": [],
   "source": [
    "nlp = spacy.load('en_core_web_lg')"
   ]
  },
  {
   "cell_type": "code",
   "execution_count": 24,
   "id": "5aa3a104",
   "metadata": {},
   "outputs": [],
   "source": [
    "doc = nlp('bhoora we are going to eat pizza , bread')"
   ]
  },
  {
   "cell_type": "code",
   "execution_count": 25,
   "id": "7d54d56d",
   "metadata": {},
   "outputs": [
    {
     "name": "stdout",
     "output_type": "stream",
     "text": [
      "bhoora vector: False oov: True\n",
      "we vector: True oov: False\n",
      "are vector: True oov: False\n",
      "going vector: True oov: False\n",
      "to vector: True oov: False\n",
      "eat vector: True oov: False\n",
      "pizza vector: True oov: False\n",
      ", vector: True oov: False\n",
      "bread vector: True oov: False\n"
     ]
    }
   ],
   "source": [
    "for token in doc:\n",
    "\n",
    "    print(token.text, 'vector:', token.has_vector, 'oov:', token.is_oov)"
   ]
  },
  {
   "cell_type": "code",
   "execution_count": 12,
   "id": "6c926cf8",
   "metadata": {},
   "outputs": [
    {
     "data": {
      "text/plain": [
       "(300,)"
      ]
     },
     "execution_count": 12,
     "metadata": {},
     "output_type": "execute_result"
    }
   ],
   "source": [
    "doc[2].vector.shape"
   ]
  },
  {
   "cell_type": "code",
   "execution_count": 13,
   "id": "156c0c40",
   "metadata": {},
   "outputs": [],
   "source": [
    "basetoken = nlp('bread')"
   ]
  },
  {
   "cell_type": "code",
   "execution_count": 14,
   "id": "d3a98b1d",
   "metadata": {},
   "outputs": [
    {
     "data": {
      "text/plain": [
       "bread"
      ]
     },
     "execution_count": 14,
     "metadata": {},
     "output_type": "execute_result"
    }
   ],
   "source": [
    "basetoken"
   ]
  },
  {
   "cell_type": "code",
   "execution_count": 26,
   "id": "cf122baf",
   "metadata": {},
   "outputs": [
    {
     "name": "stdout",
     "output_type": "stream",
     "text": [
      "bhoora <-> bread : 0.0\n",
      "we <-> bread : 0.23413802406890802\n",
      "are <-> bread : 0.14928421073734213\n",
      "going <-> bread : 0.26289137980334754\n",
      "to <-> bread : 0.15366679246506212\n",
      "eat <-> bread : 0.4318561916283459\n",
      "pizza <-> bread : 0.5654189553897031\n",
      ", <-> bread : 0.15925827703184423\n",
      "bread <-> bread : 0.9999999744752309\n"
     ]
    },
    {
     "name": "stderr",
     "output_type": "stream",
     "text": [
      "C:\\Users\\DNK133\\AppData\\Local\\Temp\\ipykernel_8544\\557385629.py:2: UserWarning: [W008] Evaluating Token.similarity based on empty vectors.\n",
      "  print(f'{token.text} <-> {basetoken.text} :', token.similarity(basetoken))\n"
     ]
    }
   ],
   "source": [
    "for token in doc :\n",
    "    print(f'{token.text} <-> {basetoken.text} :', token.similarity(basetoken))"
   ]
  }
 ],
 "metadata": {
  "kernelspec": {
   "display_name": "Python 3 (ipykernel)",
   "language": "python",
   "name": "python3"
  },
  "language_info": {
   "codemirror_mode": {
    "name": "ipython",
    "version": 3
   },
   "file_extension": ".py",
   "mimetype": "text/x-python",
   "name": "python",
   "nbconvert_exporter": "python",
   "pygments_lexer": "ipython3",
   "version": "3.9.0"
  }
 },
 "nbformat": 4,
 "nbformat_minor": 5
}
