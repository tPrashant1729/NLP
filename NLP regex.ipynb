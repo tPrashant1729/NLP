{
 "cells": [
  {
   "cell_type": "code",
   "execution_count": 1,
   "id": "8d5fa276",
   "metadata": {},
   "outputs": [],
   "source": [
    "import re"
   ]
  },
  {
   "cell_type": "code",
   "execution_count": 40,
   "id": "c338505d",
   "metadata": {},
   "outputs": [],
   "source": [
    "text = \"Lorem ipsum dolor sit amet, consectetur adipiscing elit. Email: john+doe@example.com\" \n",
    "Phone = \" my phone number is +1 (123) 456-7890 \"\n",
    "# Date of Birth: 1990-05-15 \n",
    "# Website: http://www.example.com \n",
    "user = 'Username is 123456, Tracking Number: 1Z879E930346834811'\n",
    "# Reference ID: ABC-123-XYZ \n",
    "# IP Address: 192.168.0.1 \n",
    "# Credit Card: 1234-5678-8765-4321 \n",
    "# License Plate: ABC-1234 \n"
   ]
  },
  {
   "cell_type": "code",
   "execution_count": 25,
   "id": "e9d7e35b",
   "metadata": {},
   "outputs": [
    {
     "data": {
      "text/plain": [
       "['(123)']"
      ]
     },
     "execution_count": 25,
     "metadata": {},
     "output_type": "execute_result"
    }
   ],
   "source": [
    "pattern = \"\\(\\d{3}\\)\"\n",
    "find = re.findall(pattern, Phone)\n",
    "find"
   ]
  },
  {
   "cell_type": "code",
   "execution_count": 26,
   "id": "571f5493",
   "metadata": {},
   "outputs": [
    {
     "data": {
      "text/plain": [
       "['john+doe@example.com']"
      ]
     },
     "execution_count": 26,
     "metadata": {},
     "output_type": "execute_result"
    }
   ],
   "source": [
    "# pattern = \"[a-z0-9A-Z_]*@[a-zA-Z]*.*[a-z]\"\n",
    "pattern = '[A-Za-z0-9._%+-]+@[A-Za-z0-9.-]+\\.[A-Za-z]{2,}'\n",
    "\n",
    "re.findall(pattern, text)"
   ]
  },
  {
   "cell_type": "code",
   "execution_count": 53,
   "id": "0bcd453d",
   "metadata": {},
   "outputs": [
    {
     "data": {
      "text/plain": [
       "['123456', '834811']"
      ]
     },
     "execution_count": 53,
     "metadata": {},
     "output_type": "execute_result"
    }
   ],
   "source": [
    "# find only username\n",
    "pattern = \"[a-zA-z]*[^a-z]*(\\d{6})\"\n",
    "find = re.findall(pattern, user)\n",
    "find"
   ]
  },
  {
   "cell_type": "code",
   "execution_count": 55,
   "id": "b67073d9",
   "metadata": {},
   "outputs": [],
   "source": [
    "person = '''Born\tMukesh Dhirubhai Ambani\n",
    "19 April 1957 (age 66)\n",
    "Aden, Colony of Aden\n",
    "(present-day Yemen)[1][2]\n",
    "Nationality\tIndian\n",
    "Alma mater\t\n",
    "St. Xavier's College, Mumbai\n",
    "Institute of Chemical Technology (B.E.)\n",
    "Occupation(s)\tChairman and MD, Reliance Industries\n",
    "Spouse\tNita Ambani ​(m. 1985)​[3]\n",
    "Children\t3\n",
    "Parents\t\n",
    "Dhirubhai Ambani (father)\n",
    "Kokilaben Ambani (mother)\n",
    "Relatives\tAnil Ambani (brother)\n",
    "Tina Ambani (sister-in-law)'''\n"
   ]
  },
  {
   "cell_type": "code",
   "execution_count": 61,
   "id": "e745a40f",
   "metadata": {},
   "outputs": [
    {
     "data": {
      "text/plain": [
       "'Mukesh Dhirubhai Ambani'"
      ]
     },
     "execution_count": 61,
     "metadata": {},
     "output_type": "execute_result"
    }
   ],
   "source": [
    "pattern = \"Born(.*)\"\n",
    "find = re.findall(pattern, person)\n",
    "find[0].strip()"
   ]
  },
  {
   "cell_type": "code",
   "execution_count": 63,
   "id": "7b88f32f",
   "metadata": {},
   "outputs": [
    {
     "data": {
      "text/plain": [
       "'19 April 1957'"
      ]
     },
     "execution_count": 63,
     "metadata": {},
     "output_type": "execute_result"
    }
   ],
   "source": [
    "pattern = \"Born.*\\n(.*)\\(age\"\n",
    "find = re.findall(pattern, person)\n",
    "find[0].strip()"
   ]
  },
  {
   "cell_type": "code",
   "execution_count": 66,
   "id": "abd8f352",
   "metadata": {},
   "outputs": [
    {
     "data": {
      "text/plain": [
       "'Aden, Colony of Aden\\n(present-day Yemen)'"
      ]
     },
     "execution_count": 66,
     "metadata": {},
     "output_type": "execute_result"
    }
   ],
   "source": [
    "pattern = \"\\(age.*\\n(.*\\n..*\\))\"\n",
    "find = re.findall(pattern, person)\n",
    "find[0].strip()"
   ]
  },
  {
   "cell_type": "markdown",
   "id": "ccda5b8e",
   "metadata": {},
   "source": [
    "# Exercise "
   ]
  },
  {
   "cell_type": "code",
   "execution_count": 67,
   "id": "36f97aeb",
   "metadata": {},
   "outputs": [
    {
     "data": {
      "text/plain": [
       "['https://twitter.com/elonmusk',\n",
       " 'https://twitter.com/teslarati',\n",
       " 'https://twitter.com/dummy_tesla',\n",
       " 'https://twitter.com/dummy_2_tesla']"
      ]
     },
     "execution_count": 67,
     "metadata": {},
     "output_type": "execute_result"
    }
   ],
   "source": [
    "text = '''\n",
    "Follow our leader Elon musk on twitter here: https://twitter.com/elonmusk, more information \n",
    "on Tesla's products can be found at https://www.tesla.com/. Also here are leading influencers \n",
    "for tesla related news,\n",
    "https://twitter.com/teslarati\n",
    "https://twitter.com/dummy_tesla\n",
    "https://twitter.com/dummy_2_tesla\n",
    "'''\n",
    "pattern = '[a-z]*.//twitter.com/[a-z0-9_]*' # todo: type your regex here\n",
    "\n",
    "re.findall(pattern, text)"
   ]
  },
  {
   "cell_type": "code",
   "execution_count": 69,
   "id": "3c9bc8f7",
   "metadata": {},
   "outputs": [
    {
     "data": {
      "text/plain": [
       "['Credit Risk', 'Supply Risk']"
      ]
     },
     "execution_count": 69,
     "metadata": {},
     "output_type": "execute_result"
    }
   ],
   "source": [
    "text = '''\n",
    "Concentration of Risk: Credit Risk\n",
    "Financial instruments that potentially subject us to a concentration of credit risk consist of cash, cash equivalents, marketable securities,\n",
    "restricted cash, accounts receivable, convertible note hedges, and interest rate swaps. Our cash balances are primarily invested in money market funds\n",
    "or on deposit at high credit quality financial institutions in the U.S. These deposits are typically in excess of insured limits. As of September 30, 2021\n",
    "and December 31, 2020, no entity represented 10% or more of our total accounts receivable balance. The risk of concentration for our convertible note\n",
    "hedges and interest rate swaps is mitigated by transacting with several highly-rated multinational banks.\n",
    "Concentration of Risk: Supply Risk\n",
    "We are dependent on our suppliers, including single source suppliers, and the inability of these suppliers to deliver necessary components of our\n",
    "products in a timely manner at prices, quality levels and volumes acceptable to us, or our inability to efficiently manage these components from these\n",
    "suppliers, could have a material adverse effect on our business, prospects, financial condition and operating results.\n",
    "'''\n",
    "pattern = 'Concentration of Risk. (.*)' # todo: type your regex here\n",
    "\n",
    "re.findall(pattern, text)"
   ]
  },
  {
   "cell_type": "code",
   "execution_count": 70,
   "id": "4236d53b",
   "metadata": {},
   "outputs": [
    {
     "data": {
      "text/plain": [
       "['2021 Q1', '2021 S1']"
      ]
     },
     "execution_count": 70,
     "metadata": {},
     "output_type": "execute_result"
    }
   ],
   "source": [
    "text = '''\n",
    "Tesla's gross cost of operating lease vehicles in FY2021 Q1 was $4.85 billion.\n",
    "BMW's gross cost of operating vehicles in FY2021 S1 was $8 billion.\n",
    "'''\n",
    "\n",
    "pattern = 'FY(\\d{4}...)' # todo: type your regex here\n",
    "matches = re.findall(pattern, text)\n",
    "matches"
   ]
  }
 ],
 "metadata": {
  "kernelspec": {
   "display_name": "Python 3 (ipykernel)",
   "language": "python",
   "name": "python3"
  },
  "language_info": {
   "codemirror_mode": {
    "name": "ipython",
    "version": 3
   },
   "file_extension": ".py",
   "mimetype": "text/x-python",
   "name": "python",
   "nbconvert_exporter": "python",
   "pygments_lexer": "ipython3",
   "version": "3.9.0"
  }
 },
 "nbformat": 4,
 "nbformat_minor": 5
}
